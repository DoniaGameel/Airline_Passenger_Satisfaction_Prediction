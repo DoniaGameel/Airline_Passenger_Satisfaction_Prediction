{
 "cells": [
  {
   "cell_type": "code",
   "execution_count": 6,
   "metadata": {},
   "outputs": [
    {
     "name": "stdout",
     "output_type": "stream",
     "text": [
      "Collecting mlxtend\n",
      "  Downloading mlxtend-0.23.1-py3-none-any.whl.metadata (7.3 kB)\n",
      "Requirement already satisfied: scipy>=1.2.1 in /home/donia/.local/lib/python3.8/site-packages (from mlxtend) (1.10.1)\n",
      "Requirement already satisfied: numpy>=1.16.2 in /home/donia/.local/lib/python3.8/site-packages (from mlxtend) (1.24.3)\n",
      "Requirement already satisfied: pandas>=0.24.2 in /home/donia/.local/lib/python3.8/site-packages (from mlxtend) (2.0.3)\n",
      "Requirement already satisfied: scikit-learn>=1.0.2 in /home/donia/.local/lib/python3.8/site-packages (from mlxtend) (1.3.2)\n",
      "Requirement already satisfied: matplotlib>=3.0.0 in /home/donia/.local/lib/python3.8/site-packages (from mlxtend) (3.7.5)\n",
      "Requirement already satisfied: joblib>=0.13.2 in /home/donia/.local/lib/python3.8/site-packages (from mlxtend) (1.3.2)\n",
      "Requirement already satisfied: contourpy>=1.0.1 in /home/donia/.local/lib/python3.8/site-packages (from matplotlib>=3.0.0->mlxtend) (1.1.1)\n",
      "Requirement already satisfied: cycler>=0.10 in /home/donia/miniconda3/envs/geospatial/lib/python3.8/site-packages (from matplotlib>=3.0.0->mlxtend) (0.12.1)\n",
      "Requirement already satisfied: fonttools>=4.22.0 in /home/donia/.local/lib/python3.8/site-packages (from matplotlib>=3.0.0->mlxtend) (4.51.0)\n",
      "Requirement already satisfied: kiwisolver>=1.0.1 in /home/donia/miniconda3/envs/geospatial/lib/python3.8/site-packages (from matplotlib>=3.0.0->mlxtend) (1.4.5)\n",
      "Requirement already satisfied: packaging>=20.0 in /home/donia/.local/lib/python3.8/site-packages (from matplotlib>=3.0.0->mlxtend) (23.1)\n",
      "Requirement already satisfied: pillow>=6.2.0 in /home/donia/miniconda3/envs/geospatial/lib/python3.8/site-packages (from matplotlib>=3.0.0->mlxtend) (10.3.0)\n",
      "Requirement already satisfied: pyparsing>=2.3.1 in /home/donia/miniconda3/envs/geospatial/lib/python3.8/site-packages (from matplotlib>=3.0.0->mlxtend) (3.1.2)\n",
      "Requirement already satisfied: python-dateutil>=2.7 in /home/donia/.local/lib/python3.8/site-packages (from matplotlib>=3.0.0->mlxtend) (2.9.0.post0)\n",
      "Requirement already satisfied: importlib-resources>=3.2.0 in /home/donia/.local/lib/python3.8/site-packages (from matplotlib>=3.0.0->mlxtend) (6.0.1)\n",
      "Requirement already satisfied: pytz>=2020.1 in /home/donia/.local/lib/python3.8/site-packages (from pandas>=0.24.2->mlxtend) (2023.3.post1)\n",
      "Requirement already satisfied: tzdata>=2022.1 in /home/donia/.local/lib/python3.8/site-packages (from pandas>=0.24.2->mlxtend) (2023.3)\n",
      "Requirement already satisfied: threadpoolctl>=2.0.0 in /home/donia/.local/lib/python3.8/site-packages (from scikit-learn>=1.0.2->mlxtend) (3.2.0)\n",
      "Requirement already satisfied: zipp>=3.1.0 in /home/donia/.local/lib/python3.8/site-packages (from importlib-resources>=3.2.0->matplotlib>=3.0.0->mlxtend) (3.18.1)\n",
      "Requirement already satisfied: six>=1.5 in /home/donia/miniconda3/envs/geospatial/lib/python3.8/site-packages (from python-dateutil>=2.7->matplotlib>=3.0.0->mlxtend) (1.16.0)\n",
      "Downloading mlxtend-0.23.1-py3-none-any.whl (1.4 MB)\n",
      "\u001b[2K   \u001b[90m━━━━━━━━━━━━━━━━━━━━━━━━━━━━━━━━━━━━━━━━\u001b[0m \u001b[32m1.4/1.4 MB\u001b[0m \u001b[31m394.0 kB/s\u001b[0m eta \u001b[36m0:00:00\u001b[0m00:01\u001b[0m00:01\u001b[0m\n",
      "\u001b[?25hInstalling collected packages: mlxtend\n",
      "Successfully installed mlxtend-0.23.1\n"
     ]
    }
   ],
   "source": [
    "!pip install mlxtend"
   ]
  },
  {
   "cell_type": "code",
   "execution_count": 7,
   "metadata": {},
   "outputs": [],
   "source": [
    "import os\n",
    "import pandas as pd\n",
    "\n",
    "from sklearn.model_selection import KFold\n",
    "from sklearn.metrics import roc_auc_score, accuracy_score, f1_score, precision_score, recall_score\n",
    "from sklearn.linear_model import LogisticRegression\n",
    "from sklearn.tree import DecisionTreeClassifier\n",
    "from sklearn.ensemble import RandomForestClassifier, GradientBoostingClassifier, AdaBoostClassifier\n",
    "from sklearn.neighbors import KNeighborsClassifier\n",
    "from sklearn.naive_bayes import GaussianNB, MultinomialNB\n",
    "from sklearn.neural_network import MLPClassifier\n",
    "from xgboost import XGBClassifier\n",
    "from catboost import CatBoostClassifier\n",
    "from tabulate import tabulate\n",
    "import os\n",
    "import pandas as pd\n",
    "from mlxtend.frequent_patterns import apriori\n",
    "from mlxtend.frequent_patterns import association_rules"
   ]
  },
  {
   "cell_type": "code",
   "execution_count": 2,
   "metadata": {},
   "outputs": [],
   "source": [
    "current_dir = os.getcwd() \n",
    "relative_path_train = os.path.join('..', 'data', 'preprocessed_train_data.csv')\n",
    "relative_path_test = os.path.join('..', 'data', 'preprocessed_test_data.csv')\n",
    "\n",
    "preprocessed_train_data = pd.read_csv(os.path.join(current_dir, relative_path_train))\n",
    "preprocessed_test_data = pd.read_csv(os.path.join(current_dir, relative_path_test))"
   ]
  },
  {
   "cell_type": "code",
   "execution_count": 3,
   "metadata": {},
   "outputs": [],
   "source": [
    "# Combine train and test data\n",
    "combined_data = pd.concat([preprocessed_train_data, preprocessed_test_data])"
   ]
  },
  {
   "cell_type": "code",
   "execution_count": 4,
   "metadata": {},
   "outputs": [],
   "source": [
    "# Step 2: Transform data into transactions\n",
    "transactions = []\n",
    "for index, row in combined_data.iterrows():\n",
    "    transaction = [str(item) for item in row if pd.notna(item)]\n",
    "    transactions.append(transaction)"
   ]
  },
  {
   "cell_type": "code",
   "execution_count": 11,
   "metadata": {},
   "outputs": [],
   "source": [
    "import os\n",
    "import pandas as pd\n",
    "from sklearn.preprocessing import OneHotEncoder\n",
    "from mlxtend.frequent_patterns import apriori\n",
    "from mlxtend.frequent_patterns import association_rules\n",
    "\n",
    "# Step 1: Read the data\n",
    "current_dir = os.getcwd() \n",
    "relative_path_train = os.path.join('..', 'data', 'preprocessed_train_data.csv')\n",
    "relative_path_test = os.path.join('..', 'data', 'preprocessed_test_data.csv')\n",
    "\n",
    "preprocessed_train_data = pd.read_csv(os.path.join(current_dir, relative_path_train))\n",
    "preprocessed_test_data = pd.read_csv(os.path.join(current_dir, relative_path_test))\n",
    "\n",
    "# Combine train and test data\n",
    "combined_data = pd.concat([preprocessed_train_data, preprocessed_test_data])\n",
    "\n",
    "# Step 2: Apply one-hot encoding\n",
    "encoder = OneHotEncoder()\n",
    "encoded_data = encoder.fit_transform(combined_data)\n",
    "\n",
    "# Convert the encoded data to a DataFrame\n",
    "encoded_df = pd.DataFrame(encoded_data.toarray(), columns=encoder.get_feature_names_out(combined_data.columns))\n",
    "\n",
    "# Step 3: Apply Apriori algorithm\n",
    "min_support = 0.1  # Adjust the support threshold as needed\n",
    "frequent_itemsets = apriori(encoded_df, min_support=min_support, use_colnames=True)\n",
    "\n",
    "# Generate association rules\n",
    "rules = association_rules(frequent_itemsets, metric=\"lift\", min_threshold=1)\n",
    "\n",
    "# Display the frequent itemsets and association rules\n",
    "print(\"Frequent Itemsets:\")\n",
    "print(frequent_itemsets)\n",
    "\n",
    "print(\"\\nAssociation Rules:\")\n",
    "print(rules)\n"
   ]
  }
 ],
 "metadata": {
  "kernelspec": {
   "display_name": "Python (geospatial)",
   "language": "python",
   "name": "geospatial"
  },
  "language_info": {
   "codemirror_mode": {
    "name": "ipython",
    "version": 3
   },
   "file_extension": ".py",
   "mimetype": "text/x-python",
   "name": "python",
   "nbconvert_exporter": "python",
   "pygments_lexer": "ipython3",
   "version": "3.8.18"
  }
 },
 "nbformat": 4,
 "nbformat_minor": 2
}
